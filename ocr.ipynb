{
 "cells": [
  {
   "cell_type": "code",
   "execution_count": 1,
   "metadata": {},
   "outputs": [],
   "source": [
    "%load_ext autoreload\n",
    "%autoreload 2\n",
    "\n",
    "import torch\n",
    "from torch import nn\n",
    "import numpy as np"
   ]
  },
  {
   "cell_type": "code",
   "execution_count": 2,
   "metadata": {},
   "outputs": [],
   "source": [
    "from utils import CaptionsDataset\n",
    "from torchvision import transforms\n",
    "\n",
    "image_fodler = './samples'\n",
    "\n",
    "image_mean = [0.485, 0.456, 0.406]\n",
    "image_std  = [0.229, 0.224, 0.225]\n",
    "\n",
    "transformer = transforms.Compose([\n",
    "    transforms.Normalize(image_mean, image_std)                \n",
    "])\n",
    "\n",
    "dataset = CaptionsDataset(image_folder=image_fodler, transform=transformer)"
   ]
  },
  {
   "cell_type": "code",
   "execution_count": 3,
   "metadata": {},
   "outputs": [],
   "source": [
    "test_ratio = 0.25\n",
    "test_size = int(test_ratio * len(dataset))\n",
    "train_dataset, test_dataset = torch.utils.data.random_split(dataset, [len(dataset) - test_size, test_size]) "
   ]
  },
  {
   "cell_type": "code",
   "execution_count": 4,
   "metadata": {},
   "outputs": [],
   "source": [
    "train_loader = torch.utils.data.DataLoader(train_dataset, batch_size=128)\n",
    "test_loader = torch.utils.data.DataLoader(test_dataset, batch_size=128)"
   ]
  },
  {
   "cell_type": "code",
   "execution_count": 5,
   "metadata": {},
   "outputs": [],
   "source": [
    "from models import OCRModel"
   ]
  },
  {
   "cell_type": "code",
   "execution_count": 6,
   "metadata": {},
   "outputs": [],
   "source": [
    "device = 'cuda:0' if torch.cuda.is_available() else 'cpu'"
   ]
  },
  {
   "cell_type": "code",
   "execution_count": 7,
   "metadata": {},
   "outputs": [],
   "source": [
    "tokens = set(''.join([caption[:-4] for caption in dataset.image_paths]))\n",
    "tokens.add('0')\n",
    "tokens = sorted(tokens)\n",
    "num_tokens = len(tokens)"
   ]
  },
  {
   "cell_type": "code",
   "execution_count": 8,
   "metadata": {},
   "outputs": [
    {
     "data": {
      "text/plain": [
       "20"
      ]
     },
     "execution_count": 8,
     "metadata": {},
     "output_type": "execute_result"
    }
   ],
   "source": [
    "num_tokens"
   ]
  },
  {
   "cell_type": "code",
   "execution_count": 9,
   "metadata": {},
   "outputs": [],
   "source": [
    "idx_to_token = {i: c for i, c in enumerate(tokens)}\n",
    "token_to_idx = {c: i for i, c in enumerate(tokens)}\n"
   ]
  },
  {
   "cell_type": "code",
   "execution_count": 10,
   "metadata": {},
   "outputs": [
    {
     "data": {
      "image/png": "[encoded data removed]",
      "text/plain": [
       "<Figure size 640x480 with 1 Axes>"
      ]
     },
     "metadata": {},
     "output_type": "display_data"
    },
    {
     "name": "stdout",
     "output_type": "stream",
     "text": [
      "Final Loss: 0.2807680921895163\n"
     ]
    }
   ],
   "source": [
    "from utils import train_loop\n",
    "\n",
    "model = OCRModel().to(device=device)\n",
    "opt = torch.optim.Adam(model.parameters())\n",
    "loss_func = nn.CTCLoss()\n",
    "n_epoch = 100\n",
    "\n",
    "train_loop(model=model, loss_func=loss_func, opt=opt, n_epoch=n_epoch, token_to_idx=token_to_idx, train_loader=train_loader, device=device)"
   ]
  },
  {
   "cell_type": "code",
   "execution_count": 11,
   "metadata": {},
   "outputs": [],
   "source": [
    "from torchmetrics import CharErrorRate"
   ]
  },
  {
   "cell_type": "code",
   "execution_count": 12,
   "metadata": {},
   "outputs": [
    {
     "data": {
      "text/plain": [
       "tensor(0.)"
      ]
     },
     "execution_count": 12,
     "metadata": {},
     "output_type": "execute_result"
    }
   ],
   "source": [
    "CharErrorRate()('me', 'me')"
   ]
  },
  {
   "cell_type": "code",
   "execution_count": 13,
   "metadata": {},
   "outputs": [
    {
     "name": "stdout",
     "output_type": "stream",
     "text": [
      "tensor(0.1461)\n",
      "tensor(0.1748)\n",
      "tensor(0.1494)\n",
      "tensor(0.1388)\n",
      "tensor(0.1405)\n",
      "tensor(0.1433)\n",
      "tensor(0.1429)\n"
     ]
    }
   ],
   "source": [
    "from utils import to_caption\n",
    "\n",
    "for b, c in train_loader:\n",
    "    with torch.no_grad():\n",
    "        logits = model(b.to(device)).log_softmax(-1)\n",
    "        preds = logits.argmax(-1).detach().cpu().numpy()\n",
    "        captions_pred = to_caption(idx_to_token, preds)\n",
    "        print(CharErrorRate()(c, captions_pred))"
   ]
  },
  {
   "cell_type": "code",
   "execution_count": 14,
   "metadata": {},
   "outputs": [
    {
     "data": {
      "text/plain": [
       "['36bc22',\n",
       " 'gwn53',\n",
       " '2ceegf',\n",
       " 'cdmnn8',\n",
       " 'c8n8c',\n",
       " 'x75477',\n",
       " 'nggn26',\n",
       " '2b827',\n",
       " 'ddnmd88',\n",
       " '5n7728',\n",
       " 'n7ff22',\n",
       " '23n88',\n",
       " '3bx86',\n",
       " 'b5nmn',\n",
       " '6778ww3',\n",
       " '7mgmf',\n",
       " '7ccgym',\n",
       " 'n44cpy',\n",
       " 'fncnb',\n",
       " 'w6yyne',\n",
       " 'f2fge',\n",
       " 'c6wwe6',\n",
       " 'g247w',\n",
       " 'nc4yg',\n",
       " '3den6',\n",
       " 'yyn577',\n",
       " 'x4458w',\n",
       " 'xfn6n',\n",
       " 'eppgg3',\n",
       " 'mmnef5',\n",
       " '3d77bdd',\n",
       " 'wwddccp',\n",
       " 'effgx5',\n",
       " '6bbxwwg',\n",
       " '333b222']"
      ]
     },
     "execution_count": 14,
     "metadata": {},
     "output_type": "execute_result"
    }
   ],
   "source": [
    "captions_pred"
   ]
  },
  {
   "cell_type": "code",
   "execution_count": 15,
   "metadata": {},
   "outputs": [
    {
     "data": {
      "text/plain": [
       "('36bc2',\n",
       " 'gwn53',\n",
       " '2cegf',\n",
       " 'cdmn8',\n",
       " 'c8n8c',\n",
       " 'x7547',\n",
       " 'ngn26',\n",
       " '2b827',\n",
       " 'dnmd8',\n",
       " '5n728',\n",
       " 'n7ff2',\n",
       " '23n88',\n",
       " '3bx86',\n",
       " 'b5nmm',\n",
       " '678w3',\n",
       " '7mgmf',\n",
       " '7cgym',\n",
       " 'n4cpy',\n",
       " 'fncnb',\n",
       " 'w6yne',\n",
       " 'f2fge',\n",
       " 'c6we6',\n",
       " 'g247w',\n",
       " 'nc4yg',\n",
       " '3den6',\n",
       " 'yyn57',\n",
       " 'x458w',\n",
       " 'xfn6n',\n",
       " 'eppg3',\n",
       " 'mnef5',\n",
       " '3d7bd',\n",
       " 'wddcp',\n",
       " 'efgx5',\n",
       " '6bxwg',\n",
       " '33b22')"
      ]
     },
     "execution_count": 15,
     "metadata": {},
     "output_type": "execute_result"
    }
   ],
   "source": [
    "c"
   ]
  },
  {
   "cell_type": "code",
   "execution_count": 16,
   "metadata": {},
   "outputs": [],
   "source": [
    "path_to_save = 'lstm_model_2.pkl'\n",
    "torch.save(model.state_dict(), path_to_save)\n"
   ]
  },
  {
   "cell_type": "code",
   "execution_count": null,
   "metadata": {},
   "outputs": [],
   "source": []
  }
 ],
 "metadata": {
  "kernelspec": {
   "display_name": "ml",
   "language": "python",
   "name": "python3"
  },
  "language_info": {
   "codemirror_mode": {
    "name": "ipython",
    "version": 3
   },
   "file_extension": ".py",
   "mimetype": "text/x-python",
   "name": "python",
   "nbconvert_exporter": "python",
   "pygments_lexer": "ipython3",
   "version": "3.8.10"
  },
  "orig_nbformat": 4,
  "vscode": {
   "interpreter": {
    "hash": "2c17e2c1f469873d148a4469f7685bacdc6b3c67af72e4a92b2095c14119fd8b"
   }
  }
 },
 "nbformat": 4,
 "nbformat_minor": 2
}
